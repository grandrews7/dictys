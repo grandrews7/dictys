{
 "cells": [
  {
   "cell_type": "markdown",
   "metadata": {},
   "source": [
    "# Installing Dictys\n",
    "This notebook installs Dictys as an Anaconda environment. You should have Anaconda preinstalled but run this notebook outside of any Anaconda environment."
   ]
  },
  {
   "cell_type": "markdown",
   "metadata": {},
   "source": [
    "## Test Anaconda can be found"
   ]
  },
  {
   "cell_type": "code",
   "execution_count": 1,
   "metadata": {},
   "outputs": [],
   "source": [
    "%%bash\n",
    "which activate > /dev/null"
   ]
  },
  {
   "cell_type": "markdown",
   "metadata": {},
   "source": [
    "## Installation script usage"
   ]
  },
  {
   "cell_type": "code",
   "execution_count": 2,
   "metadata": {},
   "outputs": [
    {
     "name": "stdout",
     "output_type": "stream",
     "text": [
      "Usage: bash [-h]\r\n",
      "Installing Dictys as a conda environment\r\n",
      "\r\n",
      "Parameters\r\n",
      "-h                            Display this help.\r\n",
      "\r\n",
      "Accepted environmental variables\r\n",
      "CONDAENV_NAME                 Name of conda environment\r\n",
      "PYTHONVERSION_CONDA           Python version\r\n",
      "CUDAVERSION_CONDA             CUDA version for GPU enabled pytorch. Omit or set to null str for CPU powered pytorch.\r\n",
      "                              You need a version supported by your driver and by pytorch.\r\n",
      "                              See https://stackoverflow.com/questions/9727688/how-to-get-the-cuda-version\r\n",
      "COMMIT_VERSION                Dictys commit to install. Accepts hash, branch name, and tag. Defaults to master.\r\n"
     ]
    }
   ],
   "source": [
    "!wget -qO - https://tinyurl.com/dictys | bash /dev/stdin -h"
   ]
  },
  {
   "cell_type": "markdown",
   "metadata": {},
   "source": [
    "## Install Dictys as a conda environment `dictys` with CPU computation"
   ]
  },
  {
   "cell_type": "code",
   "execution_count": null,
   "metadata": {},
   "outputs": [],
   "source": [
    "wget -O - https://tinyurl.com/dictys | bash"
   ]
  },
  {
   "cell_type": "markdown",
   "metadata": {},
   "source": [
    "## More information\n",
    "For e.g. GPU usage, see [github page](https://github.com/pinellolab/dictys#installation) and [installation document](https://github.com/pinellolab/dictys/blob/master/INSTALL.md)."
   ]
  }
 ],
 "metadata": {
  "kernelspec": {
   "display_name": "Python 3",
   "language": "python",
   "name": "python3"
  },
  "language_info": {
   "codemirror_mode": {
    "name": "ipython",
    "version": 3
   },
   "file_extension": ".py",
   "mimetype": "text/x-python",
   "name": "python",
   "nbconvert_exporter": "python",
   "pygments_lexer": "ipython3",
   "version": "3.9.5"
  }
 },
 "nbformat": 4,
 "nbformat_minor": 2
}
