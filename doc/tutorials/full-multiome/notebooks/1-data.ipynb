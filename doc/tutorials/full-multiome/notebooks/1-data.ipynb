{
 "cells": [
  {
   "cell_type": "markdown",
   "metadata": {},
   "source": [
    "# Input data preparation\n",
    "This notebooks prepares the data files needed for the cell-type specific gene regulatory network (GRN) inference pipeline.\n",
    "## Dataset description: 10x multiome\n",
    "This is a 10x multiome example dataset provided by 10x [here](https://www.10xgenomics.com/resources/datasets/pbmc-from-a-healthy-donor-granulocytes-removed-through-cell-sorting-10-k-1-standard-2-0-0). By using this notebook, you imply that you have already accepted the terms of use and privacy policy on the above hyperlinked webpage. The dataset summary webpage is also available [here](https://cf.10xgenomics.com/samples/cell-arc/2.0.0/pbmc_granulocyte_sorted_10k/pbmc_granulocyte_sorted_10k_web_summary.html).\n",
    "## Preparation of individual input files\n",
    "This section separately prepares each input file/folder as subsections. In each subsection, we will describe the expected input file, demonstate the preparation script with usage displayed when available, and briefly illustrate the content and/or format of the prepared input file. All these input files are placed in the `data` folder of this inference pipeline."
   ]
  },
  {
   "cell_type": "code",
   "execution_count": 1,
   "metadata": {},
   "outputs": [],
   "source": [
    "# Removes CPU usage limit by some jupyter versions\n",
    "import os\n",
    "os.environ['KMP_AFFINITY'] = ''\n",
    "#Create input data folder\n",
    "!mkdir ../data"
   ]
  },
  {
   "cell_type": "markdown",
   "metadata": {},
   "source": [
    "### expression.tsv.gz\n",
    "Read count matrix of RNA-profiled cells in compressed tsv format."
   ]
  },
  {
   "cell_type": "markdown",
   "metadata": {},
   "source": [
    "1. Download expression data in mtx.gz format"
   ]
  },
  {
   "cell_type": "code",
   "execution_count": 2,
   "metadata": {},
   "outputs": [],
   "source": [
    "%%bash\n",
    "set -eo pipefail\n",
    "cd ../data\n",
    "wget -q -o /dev/null https://cf.10xgenomics.com/samples/cell-arc/2.0.0/pbmc_granulocyte_sorted_10k/pbmc_granulocyte_sorted_10k_filtered_feature_bc_matrix.tar.gz\n",
    "tar xf pbmc_granulocyte_sorted_10k_filtered_feature_bc_matrix.tar.gz\n",
    "rm pbmc_granulocyte_sorted_10k_filtered_feature_bc_matrix.tar.gz\n"
   ]
  },
  {
   "cell_type": "markdown",
   "metadata": {},
   "source": [
    "2. Convert from mtx.gz to tsv.gz format using helper script `expression_mtx.py`.\n",
    "\n",
    "Usage:"
   ]
  },
  {
   "cell_type": "code",
   "execution_count": 3,
   "metadata": {},
   "outputs": [
    {
     "name": "stdout",
     "output_type": "stream",
     "text": [
      "usage: expression_mtx.py [-h] [--column COLUMN] input_folder output_file\r\n",
      "\r\n",
      "Converts mtx.gz format expression file to tsv.gz format.\r\n",
      "\r\n",
      "positional arguments:\r\n",
      "  input_folder     Input folder that contains matrix.mtx.gz, features.tsv.gz,\r\n",
      "                   and barcodes.tsv.gz.\r\n",
      "  output_file      Output file in tsv.gz format\r\n",
      "\r\n",
      "optional arguments:\r\n",
      "  -h, --help       show this help message and exit\r\n",
      "  --column COLUMN  Column ID in features.tsv.gz for gene name. Starts with 0.\r\n",
      "                   Default: 1.\r\n"
     ]
    }
   ],
   "source": [
    "!dictys_helper expression_mtx.py -h"
   ]
  },
  {
   "cell_type": "code",
   "execution_count": 4,
   "metadata": {},
   "outputs": [
    {
     "name": "stderr",
     "output_type": "stream",
     "text": [
      "WARNING:root:Skipped duplicate occurrence of gene names: TBCE,LINC01238,CYB561D2,MATR3,LINC01505,HSPA14,GOLGA8M,GGT1,ARMCX5-GPRASP2,TMSB15B\n"
     ]
    }
   ],
   "source": [
    "%%bash\n",
    "set -eo pipefail\n",
    "cd ../data\n",
    "dictys_helper expression_mtx.py filtered_feature_bc_matrix expression.tsv.gz\n"
   ]
  },
  {
   "cell_type": "markdown",
   "metadata": {},
   "source": [
    "See how it looks like"
   ]
  },
  {
   "cell_type": "code",
   "execution_count": 5,
   "metadata": {
    "scrolled": true
   },
   "outputs": [
    {
     "name": "stdout",
     "output_type": "stream",
     "text": [
      "            AAACAGCCAAGGAATC-1  AAACAGCCAATCCCTT-1  AAACAGCCAATGCGCT-1\n",
      "A1BG                         0                   0                   0\n",
      "A1BG-AS1                     0                   2                   1\n",
      "A1CF                         0                   0                   0\n",
      "A2M                          1                   0                   2\n"
     ]
    }
   ],
   "source": [
    "%%bash\n",
    "printf '%-10s%20s%20s%20s\\n' '' $(cat ../data/expression.tsv.gz | gunzip | head -n 5 | awk -F \"\\t\" '{print $1\"\\t\"$2\"\\t\"$3\"\\t\"$4}')"
   ]
  },
  {
   "cell_type": "markdown",
   "metadata": {},
   "source": [
    "### bams\n",
    "This folder contains one bam file for each cell with chromatin accessibility measurement. File name should be cell name."
   ]
  },
  {
   "cell_type": "markdown",
   "metadata": {},
   "source": [
    "1. Download all chromatin accessibility reads in bam format\n",
    "\n",
    "Note:\n",
    "* **This step can take hours or even over a day** depending on your internet connection"
   ]
  },
  {
   "cell_type": "code",
   "execution_count": 6,
   "metadata": {},
   "outputs": [],
   "source": [
    "%%bash\n",
    "wget -q -o /dev/null -O ../data/bams.bam https://s3-us-west-2.amazonaws.com/10x.files/samples/cell-arc/2.0.0/pbmc_granulocyte_sorted_10k/pbmc_granulocyte_sorted_10k_atac_possorted_bam.bam"
   ]
  },
  {
   "cell_type": "markdown",
   "metadata": {},
   "source": [
    "2. Split bam file to individual bam files for each cell using helper script `split_bam.sh`.\n",
    "\n",
    "Note:\n",
    "* **This step can take hours or even over a day**\n",
    "* The default setting will need ~30GB of memory for this dataset. Specify a lower `BUFFER_SIZE` below if you have less memory.\n",
    "\n",
    "Usage:"
   ]
  },
  {
   "cell_type": "code",
   "execution_count": 7,
   "metadata": {},
   "outputs": [
    {
     "name": "stdout",
     "output_type": "stream",
     "text": [
      "Usage: split_bam.sh [-h] whole.bam output_folder [arguments ...]\r\n",
      "Splits input whole.bam file by cell barcode and per-barcode bam files to output folder\r\n",
      "  whole.bam         Input whole bam file containing reads with different barcodes\r\n",
      "  output_folder     Output folder with one text file per barcode\r\n",
      "  arguments         Arguments passed to split_bam_text.py\r\n",
      "  -h                Display this help\r\n"
     ]
    }
   ],
   "source": [
    "!dictys_helper split_bam.sh"
   ]
  },
  {
   "cell_type": "code",
   "execution_count": 8,
   "metadata": {},
   "outputs": [
    {
     "name": "stdout",
     "output_type": "stream",
     "text": [
      "usage: samtools view whole.bam | python3 split_bam_text.py [-h] [--output_unknown OUTPUT_UNKNOWN] [--section SECTION] [--buffer_size BUFFER_SIZE] [--ref_expression REF_EXPRESSION] [--namemap NAMEMAP] output_folder\r\n",
      "\r\n",
      "Splits input bam file (stdin from samtools view) by cell barcode and outputs\r\n",
      "headerless individual text file per barcode to output folder.\r\n",
      "\r\n",
      "positional arguments:\r\n",
      "  output_folder         Output folder with one text file per barcode\r\n",
      "\r\n",
      "optional arguments:\r\n",
      "  -h, --help            show this help message and exit\r\n",
      "  --output_unknown OUTPUT_UNKNOWN\r\n",
      "                        Output text file for reads without barcodes or with\r\n",
      "                        unknown barcodes (see --ref_expression)\r\n",
      "  --section SECTION     Section header that contains cell barcode. Must be the\r\n",
      "                        same list of cell barcodes/names as other places in\r\n",
      "                        the pipeline, e.g. `subsets/*/names_atac.txt` and\r\n",
      "                        `coord_atac.tsv.gz`. Default: \"RG:\".\r\n",
      "  --buffer_size BUFFER_SIZE\r\n",
      "                        Buffer read counts for output of each barcode. Larger\r\n",
      "                        value consumes more memory for faster speed. Reduce if\r\n",
      "                        you see a MemoryError. Default: 10000.\r\n",
      "  --ref_expression REF_EXPRESSION\r\n",
      "                        Cell RNA barcode reference file as expression.tsv.gz.\r\n",
      "                        If specified, cell barcodes not contained in the\r\n",
      "                        reference file are also regarded as unknown.\r\n",
      "  --namemap NAMEMAP     Cell barcode map from RNA read barcodes to ATAC read\r\n",
      "                        barcodes in format\r\n",
      "                        file_path,RNA_column_ID,ATAC_column_ID. File should be\r\n",
      "                        in tsv format. If unset, will regard RNA and ATAC\r\n",
      "                        barcdoes identical (identity map).\r\n"
     ]
    }
   ],
   "source": [
    "!dictys_helper split_bam_text.py -h"
   ]
  },
  {
   "cell_type": "code",
   "execution_count": 9,
   "metadata": {},
   "outputs": [],
   "source": [
    "%%bash\n",
    "set -eo pipefail\n",
    "cd ../data\n",
    "dictys_helper split_bam.sh bams.bam bams --section \"CB:Z:\" --ref_expression expression.tsv.gz\n",
    "rm bams.bam\n"
   ]
  },
  {
   "cell_type": "markdown",
   "metadata": {},
   "source": [
    "See how it looks like"
   ]
  },
  {
   "cell_type": "code",
   "execution_count": 10,
   "metadata": {},
   "outputs": [
    {
     "name": "stdout",
     "output_type": "stream",
     "text": [
      "total 39G\n",
      " 8.0M AAACAGCCAAGGAATC-1.bam\n",
      " 3.3M AAACAGCCAATCCCTT-1.bam\n",
      " 2.7M AAACAGCCAATGCGCT-1.bam\n",
      " 224K AAACAGCCACACTAAT-1.bam\n",
      " 1.3M AAACAGCCACCAACCG-1.bam\n",
      " 1.7M AAACAGCCAGGATAAC-1.bam\n",
      " 6.0M AAACAGCCAGTAGGTG-1.bam\n",
      " 3.2M AAACAGCCAGTTTACG-1.bam\n",
      " 3.2M AAACAGCCATCCAGGT-1.bam\n"
     ]
    }
   ],
   "source": [
    "%%bash\n",
    "ls -h1s ../data/bams | head"
   ]
  },
  {
   "cell_type": "markdown",
   "metadata": {},
   "source": [
    "### subsets & subsets.txt\n",
    "* subsets.txt: Names of cell subsets. For each cell subset, a GRN is reconstructed.\n",
    "* subsets: Folder containing one subfolder for each cell subset as in `subsets.txt`. Each subfolder contains two files:\n",
    "    - names_rna.txt: Names of cells that belong to this subset and have transcriptome measurement\n",
    "    - names_atac.txt: Names of cells that belong to this subset and have chromatin accessibility measurement\n",
    "    - For joint measurements of RNA and ATAC, these two files should be identical in every folder.\n",
    "    \n",
    "Option 1: download the clustering from 10x \"Secondary analysis outputs (DIR)\":"
   ]
  },
  {
   "cell_type": "code",
   "execution_count": 11,
   "metadata": {},
   "outputs": [],
   "source": [
    "%%bash\n",
    "cd ../data\n",
    "wget -q -o /dev/null https://cf.10xgenomics.com/samples/cell-arc/2.0.0/pbmc_granulocyte_sorted_10k/pbmc_granulocyte_sorted_10k_analysis.tar.gz\n",
    "#Extract cell names for each cluster\n",
    "tar xf pbmc_granulocyte_sorted_10k_analysis.tar.gz \n",
    "mv analysis/clustering/gex/graphclust/clusters.csv clusters.csv\n",
    "rm -Rf pbmc_granulocyte_sorted_10k_analysis.tar.gz analysis\n"
   ]
  },
  {
   "cell_type": "markdown",
   "metadata": {},
   "source": [
    "Option 2: cluster with other softwares (here [scanpy](https://scanpy-tutorials.readthedocs.io/en/latest/pbmc3k.html) below).\n",
    "\n",
    "**Note**:\n",
    "* The cell below can be hidden if you use a renderer other than jupyter (e.g. github).\n",
    "* If you don't have scanpy installed, the kernel would automatically restart to finish scanpy installation. Please continue by running this cell again for clustering."
   ]
  },
  {
   "cell_type": "raw",
   "metadata": {},
   "source": [
    "#Installs scanpy if not present\n",
    "a=!pip show scanpy &> /dev/null; echo $?\n",
    "a=''.join(a)\n",
    "if a=='0':\n",
    "\tprint('Scanpy found. Continuing notebook execution.')\n",
    "elif a=='1':\n",
    "\ta=!pip install 'scanpy[leiden]'; echo $?\n",
    "\ta=''.join(a)\n",
    "\tif a!='0':\n",
    "\t\traise RuntimeError('Installing scanpy failed.')\n",
    "\tprint('Installing scanpy completed. Restarting kernel. Please continue from here.')\n",
    "\timport os\n",
    "\tos._exit(00)\n",
    "else:\n",
    "\traise ValueError('Unknown return for: pip show scanpy')\n",
    "\n",
    "#Clustering with scanpy\n",
    "import numpy as np\n",
    "import pandas as pd\n",
    "import scanpy as sc\n",
    "adata = sc.read_10x_mtx('../data/filtered_feature_bc_matrix/',var_names='gene_symbols',cache=False)\n",
    "adata.var_names_make_unique()\n",
    "sc.pp.filter_cells(adata, min_genes=200)\n",
    "sc.pp.filter_genes(adata, min_cells=3)\n",
    "adata.var['mt'] = adata.var_names.str.startswith('MT-')  # annotate the group of mitochondrial genes as 'mt'\n",
    "sc.pp.calculate_qc_metrics(adata, qc_vars=['mt'], percent_top=None, log1p=False, inplace=True)\n",
    "sc.pl.scatter(adata, x='total_counts', y='pct_counts_mt')\n",
    "sc.pl.scatter(adata, x='total_counts', y='n_genes_by_counts')\n",
    "adata = adata[adata.obs.n_genes_by_counts < 6000, :]\n",
    "adata = adata[adata.obs.pct_counts_mt < 20, :]\n",
    "sc.pp.normalize_total(adata, target_sum=1e4)\n",
    "sc.pp.log1p(adata)\n",
    "sc.pp.highly_variable_genes(adata, min_mean=0.0125, max_mean=3, min_disp=0.5)\n",
    "sc.pl.highly_variable_genes(adata)\n",
    "adata.raw = adata\n",
    "adata = adata[:, adata.var.highly_variable]\n",
    "sc.pp.regress_out(adata, ['total_counts', 'pct_counts_mt'])\n",
    "sc.pp.scale(adata, max_value=10)\n",
    "sc.tl.pca(adata, svd_solver='arpack')\n",
    "sc.pp.neighbors(adata, n_neighbors=10, n_pcs=40)\n",
    "sc.tl.leiden(adata)\n",
    "adata.obs.leiden.to_csv('../data/clusters.csv',header=['Cluster'],index=True,index_label='Barcode')\n"
   ]
  },
  {
   "cell_type": "markdown",
   "metadata": {},
   "source": [
    "Finally, reformat clusters.csv for input:"
   ]
  },
  {
   "cell_type": "code",
   "execution_count": 12,
   "metadata": {},
   "outputs": [],
   "source": [
    "%%bash\n",
    "cd ../data\n",
    "subsets=\"$(tail -n +2 clusters.csv | awk -F , '{print $2}' | sort -u)\"\n",
    "echo \"$subsets\" | awk '{print \"Subset\"$1}' > subsets.txt\n",
    "for x in $subsets; do\n",
    "\tmkdir -p \"subsets/Subset$x\"\n",
    "\tgrep \",$x\"'$' clusters.csv | awk -F , '{print $1}' > \"subsets/Subset$x/names_rna.txt\"\n",
    "\t# RNA and ATAC barcodes are the same for joint quantifications\n",
    "\tcp \"subsets/Subset$x/names_rna.txt\" \"subsets/Subset$x/names_atac.txt\"\n",
    "done\n",
    "rm clusters.csv\n"
   ]
  },
  {
   "cell_type": "markdown",
   "metadata": {},
   "source": [
    "See how it looks like"
   ]
  },
  {
   "cell_type": "code",
   "execution_count": 13,
   "metadata": {},
   "outputs": [
    {
     "name": "stdout",
     "output_type": "stream",
     "text": [
      "Subset1\r\n",
      "Subset10\r\n",
      "Subset11\r\n",
      "Subset12\r\n",
      "Subset13\r\n",
      "Subset14\r\n",
      "Subset2\r\n",
      "Subset3\r\n",
      "Subset4\r\n",
      "Subset5\r\n"
     ]
    }
   ],
   "source": [
    "#Cell subset list\n",
    "!head ../data/subsets.txt"
   ]
  },
  {
   "cell_type": "code",
   "execution_count": 14,
   "metadata": {},
   "outputs": [
    {
     "name": "stdout",
     "output_type": "stream",
     "text": [
      "AAACAGCCAATCCCTT-1\r\n",
      "AAACAGCCAGTTTACG-1\r\n",
      "AAACCAACAGGATGGC-1\r\n",
      "AAACGGATCATGGCTG-1\r\n"
     ]
    }
   ],
   "source": [
    "#RNA cell barcodes for Subset 1\n",
    "!head -n 4 ../data/subsets/Subset1/names_rna.txt"
   ]
  },
  {
   "cell_type": "code",
   "execution_count": 15,
   "metadata": {},
   "outputs": [
    {
     "name": "stdout",
     "output_type": "stream",
     "text": [
      "AAACAGCCAATCCCTT-1\r\n",
      "AAACAGCCAGTTTACG-1\r\n",
      "AAACCAACAGGATGGC-1\r\n",
      "AAACGGATCATGGCTG-1\r\n"
     ]
    }
   ],
   "source": [
    "#ATAC cell barcodes for Subset 1. They are identical because it's a joint profiling dataset.\n",
    "!head -n 4 ../data/subsets/Subset1/names_atac.txt"
   ]
  },
  {
   "cell_type": "markdown",
   "metadata": {},
   "source": [
    "### motifs.motif\n",
    "All motifs in HOMER format. Motifs must be named as TF_... where TF is the TF gene name matching those in expression.tsv.gz. The same motif can appear more than once under different names to link it to multiple TFs. [Log odds detection threshold](http://homer.ucsd.edu/homer/motif/creatingCustomMotifs.html) must be valid. Motif file can be obtained from different motif databases, e.g. from [HOCOMOCO](https://hocomoco11.autosome.org/downloads_v11) or provided by HOMER.\n",
    "\n",
    "You can use **either** of the motif databases below or provide your own motifs.\n",
    "\n",
    "Note:\n",
    "* **Choose only one database** (homer or HOCOMOCO) below for your motifs. Here HOCOMOCO is used for demonstration.\n",
    "* Any database may have gene symbols not matching your gene symbols. You can (and are recommended to) confirm the discrepancy in the checking step and manually match gene names by editing `motifs.motif`. This step is omitted for this tutorial.\n",
    "\n",
    "Option 1: from homer\n",
    "\n",
    "**Note**: The cell below can be hidden if you use a renderer other than jupyter (e.g. github).\n",
    "\n",
    "Homer motifs are extracted directly from its installation using helper script `motif_homer.sh`. Usage:"
   ]
  },
  {
   "cell_type": "raw",
   "metadata": {},
   "source": [
    "!dictys_helper motif_homer.sh -h"
   ]
  },
  {
   "cell_type": "markdown",
   "metadata": {},
   "source": [
    "To use homer motif:"
   ]
  },
  {
   "cell_type": "raw",
   "metadata": {},
   "source": [
    "%%bash\n",
    "dictys_helper motif_homer.sh > ../data/motifs.motif"
   ]
  },
  {
   "cell_type": "markdown",
   "metadata": {},
   "source": [
    "See how it looks like"
   ]
  },
  {
   "cell_type": "raw",
   "metadata": {},
   "source": [
    "!head -n 18 ../data/motifs.motif"
   ]
  },
  {
   "cell_type": "markdown",
   "metadata": {},
   "source": [
    "Option 2: from HOCOMOCO\n",
    "\n",
    "HOCOMOCO motifs are downloaded from [their website](https://hocomoco11.autosome.org/). Several versions and significance levels are available.\n",
    "\n",
    "To use HOCOMOCO motifs (here v11, full collection, human, P<0.0001):"
   ]
  },
  {
   "cell_type": "code",
   "execution_count": 16,
   "metadata": {},
   "outputs": [],
   "source": [
    "%%bash\n",
    "wget -q -o /dev/null -O ../data/motifs.motif 'https://hocomoco11.autosome.org/final_bundle/hocomoco11/full/HUMAN/mono/HOCOMOCOv11_full_HUMAN_mono_homer_format_0.0001.motif'"
   ]
  },
  {
   "cell_type": "markdown",
   "metadata": {},
   "source": [
    "See how it looks like"
   ]
  },
  {
   "cell_type": "code",
   "execution_count": 17,
   "metadata": {},
   "outputs": [
    {
     "name": "stdout",
     "output_type": "stream",
     "text": [
      ">dKhGCGTGh\tAHR_HUMAN.H11MO.0.B\t3.3775000000000004\r\n",
      "0.262728374765856\t0.1227600511842322\t0.362725638699551\t0.25178593535036087\r\n",
      "0.07633328991810645\t0.08258130543118362\t0.22593295481662123\t0.6151524498340887\r\n",
      "0.14450570038747923\t0.28392173880411337\t0.13815442099009081\t0.4334181398183167\r\n",
      "0.023935814057894068\t0.016203821748029118\t0.9253278681170539\t0.03453249607702277\r\n",
      "0.007919544273173793\t0.953597675415874\t0.017308392078009837\t0.021174388232942286\r\n",
      "0.02956192959210962\t0.012890110758086997\t0.9474192747166682\t0.010128684933135217\r\n",
      "0.007919544273173797\t0.029561929592109615\t0.012337825593096645\t0.9501807005416201\r\n",
      "0.007919544273173793\t0.007919544273173793\t0.9762413671804787\t0.007919544273173793\r\n",
      "0.27886589130660366\t0.4285328543459993\t0.10955683916661985\t0.18304441518077724\r\n",
      ">hnnGGWWnddWWGGdbWh\tAIRE_HUMAN.H11MO.0.C\t5.64711\r\n",
      "0.38551919443239085\t0.2604245534178759\t0.1353299124033618\t0.21872633974637148\r\n",
      "0.18745267949274294\t0.18745267949274294\t0.14575446582123766\t0.4793401751932764\r\n",
      "0.14575446582123777\t0.14575446582123777\t0.2083017863284958\t0.5001892820290286\r\n",
      "0.0623580384782284\t0.020659824806723626\t0.8337749914010671\t0.08320714531398087\r\n",
      "0.020659824806723633\t0.020659824806723633\t0.7712276708938095\t0.18745267949274314\r\n",
      "0.3125473205072573\t0.062358038478228406\t0.04150893164247602\t0.5835857093720382\r\n",
      "0.37509464101451423\t0.10405625214973326\t0.04150893164247601\t0.4793401751932766\r\n"
     ]
    }
   ],
   "source": [
    "!head -n 18 ../data/motifs.motif"
   ]
  },
  {
   "cell_type": "markdown",
   "metadata": {},
   "source": [
    "### genome\n",
    "Folder containing reference genome in HOMER format. Creating a separate copy from the original location is recommended because HOMER creates preparsed files in this folder."
   ]
  },
  {
   "cell_type": "markdown",
   "metadata": {},
   "source": [
    "Reference genome is extracted from homer using helper script `genome_homer.sh`. Alternatively, you can place your custom genome in the same location.\n",
    "\n",
    "Note:\n",
    "* **You need the same reference genome version with chromatin accessibility reads**\n",
    "\n",
    "Usage:"
   ]
  },
  {
   "cell_type": "code",
   "execution_count": 18,
   "metadata": {},
   "outputs": [
    {
     "name": "stdout",
     "output_type": "stream",
     "text": [
      "Usage: genome_homer.sh [-b basedir] [-h] refgenome output_dir\r\n",
      "Extracts reference genome from homer installation to output directory\r\n",
      "  refgenome     Name of reference genome in homer format, e.g. hg38.\r\n",
      "                You can get reference genomes available in homer with $basedir/configureHomer.pl -list\r\n",
      "  output_dir    Output directory to export reference genome as\r\n",
      "  -b basedir    Base directory of homer installation\r\n",
      "                Default: autodetect (~/.conda/envs/dictys/share/homer)\r\n",
      "  -h            Display this help\r\n"
     ]
    }
   ],
   "source": [
    "!dictys_helper genome_homer.sh -h"
   ]
  },
  {
   "cell_type": "code",
   "execution_count": 19,
   "metadata": {},
   "outputs": [],
   "source": [
    "%%bash\n",
    "dictys_helper genome_homer.sh hg38 ../data/genome"
   ]
  },
  {
   "cell_type": "markdown",
   "metadata": {},
   "source": [
    "See how it looks like"
   ]
  },
  {
   "cell_type": "code",
   "execution_count": 20,
   "metadata": {},
   "outputs": [
    {
     "name": "stdout",
     "output_type": "stream",
     "text": [
      "total 4.4G\n",
      "4.0K annotations\n",
      " 12K chrom.sizes\n",
      "3.1G genome.fa\n",
      "3.2M hg38.aug\n",
      " 42M hg38.basic.annotation\n",
      "673M hg38.full.annotation\n",
      "164K hg38.miRNA\n",
      "505M hg38.repeats\n",
      " 24M hg38.rna\n"
     ]
    }
   ],
   "source": [
    "%%bash\n",
    "ls -h1s ../data/genome | head"
   ]
  },
  {
   "cell_type": "markdown",
   "metadata": {},
   "source": [
    "### gene.bed\n",
    "Bed file of gene regions and strand information to locate transcription start sites. You can download a GTF/GFF file and convert it to this bed file. Note that gene names must be in the same format as in expression.tsv.gz.\n",
    "\n",
    "1. Download GTF file from [ensembl](http://useast.ensembl.org/info/data/ftp/index.html/)\n",
    "\n",
    "Note:\n",
    "* **The GTF file should have the same reference genome version with chromatin accessibility reads**"
   ]
  },
  {
   "cell_type": "code",
   "execution_count": 21,
   "metadata": {},
   "outputs": [],
   "source": [
    "%%bash\n",
    "cd ../data\n",
    "wget -q -o /dev/null -O gene.gtf.gz http://ftp.ensembl.org/pub/release-107/gtf/homo_sapiens/Homo_sapiens.GRCh38.107.gtf.gz\n",
    "gunzip gene.gtf.gz"
   ]
  },
  {
   "cell_type": "markdown",
   "metadata": {},
   "source": [
    "2. Extract gene regions from GTF file using helper script `gene_gtf.sh`\n",
    "\n",
    "Usage:"
   ]
  },
  {
   "cell_type": "code",
   "execution_count": 22,
   "metadata": {},
   "outputs": [
    {
     "name": "stdout",
     "output_type": "stream",
     "text": [
      "Usage: gene_gtf.sh [-f field] [-h] gtf_file bed_file\r\n",
      "Extracts gene region from GTF file into bed file\r\n",
      "  gtf_file      Path of input GTF file\r\n",
      "  bed_file      Path of output BED file\r\n",
      "  -f field      Field name to extract. Default: gene_name\r\n",
      "  -h            Display this help\r\n"
     ]
    }
   ],
   "source": [
    "!dictys_helper gene_gtf.sh -h"
   ]
  },
  {
   "cell_type": "code",
   "execution_count": 23,
   "metadata": {
    "scrolled": true
   },
   "outputs": [],
   "source": [
    "%%bash\n",
    "dictys_helper gene_gtf.sh ../data/gene.gtf ../data/gene.bed\n",
    "rm ../data/gene.gtf"
   ]
  },
  {
   "cell_type": "markdown",
   "metadata": {},
   "source": [
    "See how it looks like"
   ]
  },
  {
   "cell_type": "code",
   "execution_count": 24,
   "metadata": {},
   "outputs": [
    {
     "name": "stdout",
     "output_type": "stream",
     "text": [
      "chr1\t11869\t14409\tDDX11L1\t.\t+\r\n",
      "chr1\t14404\t29570\tWASH7P\t.\t-\r\n",
      "chr1\t17369\t17436\tMIR6859-1\t.\t-\r\n",
      "chr1\t29554\t31109\tMIR1302-2HG\t.\t+\r\n",
      "chr1\t30366\t30503\tMIR1302-2\t.\t+\r\n",
      "chr1\t34554\t36081\tFAM138A\t.\t-\r\n",
      "chr1\t52473\t53312\tOR4G4P\t.\t+\r\n",
      "chr1\t57598\t64116\tOR4G11P\t.\t+\r\n",
      "chr1\t65419\t71585\tOR4F5\t.\t+\r\n",
      "chr1\t131025\t134836\tCICP27\t.\t+\r\n"
     ]
    }
   ],
   "source": [
    "!head ../data/gene.bed"
   ]
  },
  {
   "cell_type": "markdown",
   "metadata": {},
   "source": [
    "### Cleanup"
   ]
  },
  {
   "cell_type": "code",
   "execution_count": 25,
   "metadata": {},
   "outputs": [],
   "source": [
    "!rm -Rf ../data/filtered_feature_bc_matrix\n"
   ]
  },
  {
   "cell_type": "markdown",
   "metadata": {},
   "source": [
    "## Optional input files\n",
    "### blacklist.bed\n",
    "Bed file of regions to exclude in chromatin accessibility analyses"
   ]
  },
  {
   "cell_type": "code",
   "execution_count": null,
   "metadata": {},
   "outputs": [],
   "source": []
  }
 ],
 "metadata": {
  "kernelspec": {
   "display_name": "Python 3 (ipykernel)",
   "language": "python",
   "name": "python3"
  },
  "language_info": {
   "codemirror_mode": {
    "name": "ipython",
    "version": 3
   },
   "file_extension": ".py",
   "mimetype": "text/x-python",
   "name": "python",
   "nbconvert_exporter": "python",
   "pygments_lexer": "ipython3",
   "version": "3.9.13"
  }
 },
 "nbformat": 4,
 "nbformat_minor": 2
}
