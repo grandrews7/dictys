{
 "cells": [
  {
   "cell_type": "markdown",
   "metadata": {},
   "source": [
    "# Checks of input data before context specific GRN inference run\n",
    "Checks are strongly recommended and can reduce inference pipeline reruns due to errors and therefore save you running time. If you find any error or unexpected output here, change the input files in `data` or `makefiles` folder by regenerating the relevant files in earlier steps, or by editing them by hand. After that, rerun the checks here to make sure everything is expected."
   ]
  },
  {
   "cell_type": "code",
   "execution_count": 1,
   "metadata": {},
   "outputs": [],
   "source": [
    "from os.path import join as pjoin\n",
    "from os.path import exists as pexists\n",
    "from os import listdir\n",
    "import logging\n",
    "import itertools\n",
    "import numpy as np\n",
    "import pandas as pd\n",
    "from dictys.traj import trajectory,point\n",
    "\n",
    "dirdata='../data'\n",
    "dirmakefiles='../makefiles'"
   ]
  },
  {
   "cell_type": "code",
   "execution_count": 2,
   "metadata": {
    "scrolled": true
   },
   "outputs": [
    {
     "name": "stdout",
     "output_type": "stream",
     "text": [
      "Joint profile: True\n"
     ]
    }
   ],
   "source": [
    "#Detect whether joint profiles from makefile\n",
    "with open(pjoin(dirmakefiles,'config.mk'),'r') as f:\n",
    "\ts=f.readlines()\n",
    "s=[x.strip() for x in s if x.startswith('JOINT=')][-1]\n",
    "s=s[len('JOINT='):]\n",
    "if s not in {'0','1'}:\n",
    "\traise ValueError('Invalid JOINT variable in '+pjoin(dirmakefiles,'config.mk'))\n",
    "isjoint=s=='1'\n",
    "print(f'Joint profile: {isjoint}')\n"
   ]
  },
  {
   "cell_type": "code",
   "execution_count": 3,
   "metadata": {},
   "outputs": [
    {
     "name": "stdout",
     "output_type": "stream",
     "text": [
      "Found 11898 cells with RNA profile\n",
      "Found 24036 genes with RNA profile\n"
     ]
    }
   ],
   "source": [
    "#Gene & cell names from RNA\n",
    "namec_rna=pd.read_csv(pjoin(dirdata,'expression.tsv.gz'),header=0,index_col=0,sep='\\t',nrows=1)\n",
    "namec_rna=np.array(namec_rna.columns)\n",
    "snamec_rna=set(namec_rna)\n",
    "print(f'Found {len(namec_rna)} cells with RNA profile')\n",
    "if len(namec_rna)<100:\n",
    "\traise ValueError('<100 cells found with RNA profile')\n",
    "nameg=pd.read_csv(pjoin(dirdata,'expression.tsv.gz'),header=0,index_col=0,sep='\\t',usecols=[0,1])\n",
    "nameg=np.array(nameg.index)\n",
    "snameg=set(nameg)\n",
    "print(f'Found {len(nameg)} genes with RNA profile')\n",
    "if len(nameg)<100:\n",
    "\traise ValueError('<100 genes found with RNA profile')\n"
   ]
  },
  {
   "cell_type": "code",
   "execution_count": 4,
   "metadata": {},
   "outputs": [
    {
     "name": "stdout",
     "output_type": "stream",
     "text": [
      "Found 11898 cells with ATAC profile\n"
     ]
    }
   ],
   "source": [
    "#Cell names from ATAC\n",
    "namec_atac=listdir(pjoin(dirdata,'bams'))\n",
    "namec_atac=np.array(['.'.join(x.split('.')[:-1]) for x in namec_atac if x.endswith('.bam')])\n",
    "snamec_atac=set(namec_atac)\n",
    "print(f'Found {len(namec_atac)} cells with ATAC profile')\n",
    "if isjoint and len(snamec_rna-snamec_atac)>0:\n",
    "\traise FileNotFoundError('Not all cells with RNA profile has a bam file in bams folder for the joint profiling dataset.')\n"
   ]
  },
  {
   "cell_type": "code",
   "execution_count": 5,
   "metadata": {},
   "outputs": [
    {
     "name": "stdout",
     "output_type": "stream",
     "text": [
      "Found 769 motifs\n",
      "Found 678 TFs\n",
      "Found 461 TFs in current dataset\n",
      "Missing 217 TFs in current dataset: ANDR,AP2A,AP2B,AP2C,AP2D,ARI3A,ARI5B,ATF6A,BARH1,BARH2,BC11A,BHA15,BHE22,BHE23,BHE40,BHE41,BMAL1,BRAC,BSH,COE1,COT1,COT2,CR3L1,CR3L2,ERR1,ERR2,ERR3,EVI1,GCR,HEN1,HMBX1,HME1,HME2,HNF6,HTF4,HXA1,HXA10,HXA11,HXA13,HXA2,HXA5,HXA7,HXA9,HXB1,HXB13,HXB2,HXB3,HXB4,HXB6,HXB7,HXB8,HXC10,HXC11,HXC12,HXC13,HXC6,HXC8,HXC9,HXD10,HXD11,HXD12,HXD13,HXD3,HXD4,HXD8,HXD9,ITF2,KAISO,MCR,MGAP,MLXPL,MYBA,MYBB,NDF1,NDF2,NF2L1,NF2L2,NFAC1,NFAC2,NFAC3,NFAC4,NGN2,NKX21,NKX22,NKX23,NKX25,NKX28,NKX31,NKX32,NKX61,NKX62,ONEC2,ONEC3,OZF,P53,P5F1B,P63,P73,PEBB,PHX2A,PHX2B,PIT1,PKNX1,PLAL1,PO2F1,PO2F2,PO2F3,PO3F1,PO3F2,PO3F3,PO3F4,PO4F1,PO4F2,PO4F3,PO5F1,PO6F1,PO6F2,PRD14,PRGR,RHXF1,RORG,RX,SMCA1,SMCA5,SRBP1,SRBP2,STA5A,STA5B,STF1,SUH,TF2LX,TF65,TF7L1,TF7L2,TFE2,THA,THA11,THB,TWST1,TYY1,TYY2,UBIP1,UNC4,Z324A,Z354A,ZBT14,ZBT17,ZBT18,ZBT48,ZBT49,ZBT7A,ZBT7B,ZEP1,ZEP2,ZF64A,ZKSC1,ZKSC3,ZN121,ZN134,ZN136,ZN140,ZN143,ZN148,ZN214,ZN219,ZN232,ZN250,ZN257,ZN260,ZN263,ZN264,ZN274,ZN281,ZN282,ZN317,ZN320,ZN322,ZN329,ZN331,ZN333,ZN335,ZN341,ZN350,ZN382,ZN384,ZN394,ZN410,ZN418,ZN423,ZN436,ZN449,ZN467,ZN490,ZN502,ZN524,ZN528,ZN547,ZN549,ZN554,ZN563,ZN582,ZN586,ZN589,ZN652,ZN667,ZN680,ZN708,ZN713,ZN740,ZN768,ZN770,ZN784,ZN816,ZSC16,ZSC22,ZSC31,ZSCA4\n"
     ]
    }
   ],
   "source": [
    "#TF names from motifs\n",
    "with open(pjoin(dirdata,'motifs.motif'),'r') as f:\n",
    "\tnameg_motif=f.readlines()\n",
    "nameg_motif=[x.split('\\t')[1] for x in nameg_motif if x.startswith('>')]\n",
    "if len(nameg_motif)!=len(set(nameg_motif)):\n",
    "\traise ValueError('Duplicate motifs found')\n",
    "print(f'Found {len(nameg_motif)} motifs')\n",
    "nameg_motif=set([x.split('_')[0] for x in nameg_motif])\n",
    "print(f'Found {len(nameg_motif)} TFs')\n",
    "nameg_motif_notfound=sorted(nameg_motif-set(nameg))\n",
    "nameg_motif=sorted(nameg_motif&set(nameg))\n",
    "snameg_motif=set(nameg_motif)\n",
    "print(f'Found {len(nameg_motif)} TFs in current dataset')\n",
    "print(f'Missing {len(nameg_motif_notfound)} TFs in current dataset: '+','.join(nameg_motif_notfound))\n",
    "if len(nameg_motif)<10:\n",
    "\traise ValueError('<10 TFs found')"
   ]
  },
  {
   "cell_type": "code",
   "execution_count": 6,
   "metadata": {},
   "outputs": [
    {
     "name": "stdout",
     "output_type": "stream",
     "text": [
      "Found 23533 genes with TSS information\n"
     ]
    }
   ],
   "source": [
    "#Chromosomes and gene names from bed file\n",
    "with open(pjoin(dirdata,'gene.bed'),'r') as f:\n",
    "\tnameg_bed=f.readlines()\n",
    "nameg_bed=[x.strip() for x in nameg_bed]\n",
    "nameg_bed=[x.split('\\t') for x in nameg_bed if len(x)>0]\n",
    "if len(set([len(x) for x in nameg_bed]))!=1:\n",
    "\traise ValueError('Unequal number of columns in gene.bed')\n",
    "nameg_bed=list(filter(lambda x:x[3] in snameg,nameg_bed))\n",
    "if len(nameg_bed[0])<6:\n",
    "\tlogging.warn('No strand information in gene.bed')\n",
    "namechr_bed=sorted(set([x[0] for x in nameg_bed]))\n",
    "snamechr_bed=set(namechr_bed)\n",
    "nameg_bed=[x[3] for x in nameg_bed]\n",
    "snameg_bed=set(nameg_bed)\n",
    "if len(nameg_bed)!=len(snameg_bed):\n",
    "\tfrom collections import Counter\n",
    "\traise ValueError('Duplicate gene found in gene.bed')\n",
    "nameg_bed=sorted(nameg_bed)\n",
    "print(f'Found {len(nameg_bed)} genes with TSS information')\n",
    "if len(nameg_bed)<100:\n",
    "\traise ValueError('<100 genes with TSS information')\n"
   ]
  },
  {
   "cell_type": "code",
   "execution_count": 7,
   "metadata": {},
   "outputs": [
    {
     "name": "stderr",
     "output_type": "stream",
     "text": [
      "WARNING:root:Chromosomes not found in genome: chrGL000194.1,chrMT\n"
     ]
    }
   ],
   "source": [
    "#Ref genome chromosomes\n",
    "namechr=listdir(pjoin(dirdata,'genome'))\n",
    "namechr=list(filter(lambda x:x.endswith('.fa'),namechr))\n",
    "t1=[]\n",
    "for xi in namechr:\n",
    "\twith open(pjoin(dirdata,'genome',xi),'r') as f:\n",
    "\t\tt1.append(list(filter(lambda x:x.startswith('>'),f.readlines())))\n",
    "namechr=[x.strip().strip('>') for x in itertools.chain.from_iterable(t1)]\n",
    "snamechr=set(namechr)\n",
    "if len(snamechr_bed-snamechr)>0:\n",
    "\tlogging.warning('Chromosomes not found in genome: '+','.join(sorted(snamechr_bed-snamechr)))\n"
   ]
  },
  {
   "cell_type": "code",
   "execution_count": 8,
   "metadata": {},
   "outputs": [],
   "source": [
    "#Blacklist chromosomes\n",
    "if pexists(pjoin(dirdata,'blacklist.bed')):\n",
    "\twith open(pjoin(dirdata,'blacklist.bed'),'r') as f:\n",
    "\t\tnamechr_bl=f.readlines()\n",
    "\tnamechr_bl=[x.strip() for x in namechr_bl]\n",
    "\tnamechr_bl=[x.split('\\t')[0] for x in namechr_bl if len(x)>0]\n",
    "\tsnamechr_bl=set(namechr_bl)\n",
    "\tif len(snamechr_bl-namechr_bl)>0:\n",
    "\t\tlogging.warn('Blacklist chromosomes not found in genome: '+','.join(sorted(snamechr_bl-namechr_bl)))\n"
   ]
  },
  {
   "cell_type": "markdown",
   "metadata": {},
   "source": [
    "## For context specific GRN inference only"
   ]
  },
  {
   "cell_type": "code",
   "execution_count": 9,
   "metadata": {},
   "outputs": [],
   "source": [
    "#Subsets\n",
    "with open(pjoin(dirdata,'subsets.txt'),'r') as f:\n",
    "\tnames=f.readlines()\n",
    "names=[x.strip() for x in names]\n",
    "names=list(filter(lambda x:len(x)>0,names))"
   ]
  },
  {
   "cell_type": "code",
   "execution_count": 10,
   "metadata": {},
   "outputs": [],
   "source": [
    "#Cell names in each subset\n",
    "\n",
    "#Loading cell names\n",
    "namec_srna=[]\n",
    "namec_satac=[]\n",
    "for xi in names:\n",
    "\twith open(pjoin(dirdata,'subsets',xi,'names_rna.txt'),'r') as f:\n",
    "\t\tt1=f.readlines()\n",
    "\tt1=[x.strip() for x in t1]\n",
    "\tt1=list(filter(lambda x:len(x)>0,t1))\n",
    "\tnamec_srna.append(t1)\n",
    "\twith open(pjoin(dirdata,'subsets',xi,'names_atac.txt'),'r') as f:\n",
    "\t\tt1=f.readlines()\n",
    "\tt1=[x.strip() for x in t1]\n",
    "\tt1=list(filter(lambda x:len(x)>0,t1))\n",
    "\tnamec_satac.append(t1)\n",
    "snamec_srna,snamec_satac=[[set(y) for y in x] for x in [namec_srna,namec_satac]]\n",
    "\n",
    "#Checking cell names\n",
    "t1=list(itertools.chain.from_iterable(namec_srna))\n",
    "if len(t1)!=len(set(t1)):\n",
    "\tprint(len(t1),len(set(t1)))\n",
    "\traise ValueError('Found RNA cells assigned to multiple subsets')\n",
    "t1=set(t1)\n",
    "if len(t1-snamec_rna)>0:\n",
    "\traise ValueError('Subset RNA cells not found in population')\n",
    "if len(snamec_rna-t1)>0:\n",
    "\tlogging.warn('Found RNA cells not assigned to any subset')\n",
    "\n",
    "if isjoint:\n",
    "\tif any([frozenset(x)!=frozenset(y) for x,y in zip(snamec_srna,snamec_satac)]):\n",
    "\t\traise ValueError('Subset assignments must be identical for joint profiles.')\n",
    "else:\n",
    "\tt1=list(itertools.chain.from_iterable(namec_satac))\n",
    "\tif len(t1)!=len(set(t1)):\n",
    "\t\traise ValueError('Found ATAC cells assigned to multiple subsets')\n",
    "\tt1=set(t1)\n",
    "\tif len(t1-snamec_atac)>0:\n",
    "\t\traise ValueError('Subset ATAC cells not found in population')\n",
    "\tif len(snamec_atac-t1)>0:\n",
    "\t\tlogging.warn('Found ATAC cells not assigned to any subset')\n"
   ]
  }
 ],
 "metadata": {
  "kernelspec": {
   "display_name": "Python 3 (ipykernel)",
   "language": "python",
   "name": "python3"
  },
  "language_info": {
   "codemirror_mode": {
    "name": "ipython",
    "version": 3
   },
   "file_extension": ".py",
   "mimetype": "text/x-python",
   "name": "python",
   "nbconvert_exporter": "python",
   "pygments_lexer": "ipython3",
   "version": "3.9.13"
  }
 },
 "nbformat": 4,
 "nbformat_minor": 2
}
