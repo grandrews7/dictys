{
 "cells": [
  {
   "cell_type": "markdown",
   "metadata": {},
   "source": [
    "# Makefile preparation\n",
    "This notebooks prepares the makefiles needed for the context specific and dynamic gene regulatory network (GRN) inference pipeline."
   ]
  },
  {
   "cell_type": "markdown",
   "metadata": {},
   "source": [
    "1. Generate makefiles from the template using helper script `makefile_template.sh`\n",
    "\n",
    "Usage:"
   ]
  },
  {
   "cell_type": "code",
   "execution_count": 1,
   "metadata": {},
   "outputs": [
    {
     "name": "stdout",
     "output_type": "stream",
     "text": [
      "Usage: makefile_template.sh [-h] [makefile1.mk ...]\r\n",
      "Generate network inference pipeline makefiles in current working folder from template\r\n",
      "  makefile1.mk ...    Name of each makefile to generate from template.\r\n",
      "                      If omitted, all available makefiles will be generated.\r\n",
      "  -h                  Display this help\r\n"
     ]
    }
   ],
   "source": [
    "!dictys_helper makefile_template.sh -h"
   ]
  },
  {
   "cell_type": "code",
   "execution_count": 2,
   "metadata": {},
   "outputs": [],
   "source": [
    "%%bash\n",
    "rm -Rf ../makefiles\n",
    "mkdir ../makefiles\n",
    "cd ../makefiles\n",
    "dictys_helper makefile_template.sh common.mk config.mk env_none.mk static.mk\n"
   ]
  },
  {
   "cell_type": "markdown",
   "metadata": {},
   "source": [
    "2. Update `config.mk` based on the dataset and your computing platform using helper script `makefile_update.sh`\n",
    "\n",
    "Usage:"
   ]
  },
  {
   "cell_type": "code",
   "execution_count": 3,
   "metadata": {},
   "outputs": [
    {
     "name": "stdout",
     "output_type": "stream",
     "text": [
      "usage: makefile_update.py [-h] makefile_path json_string\r\n",
      "\r\n",
      "Updates makefile variable assignments with values provided in json string\r\n",
      "\r\n",
      "positional arguments:\r\n",
      "  makefile_path  Path of makefile to update and rewritten.\r\n",
      "  json_string    Update to be made in json format:\r\n",
      "                 {\"variable_name\":\"new_value\"}. Variable names can have \"+\"\r\n",
      "                 suffix to indicate appending to current value.\r\n",
      "\r\n",
      "optional arguments:\r\n",
      "  -h, --help     show this help message and exit\r\n"
     ]
    }
   ],
   "source": [
    "!dictys_helper makefile_update.py -h"
   ]
  },
  {
   "cell_type": "markdown",
   "metadata": {},
   "source": [
    "You should edit the follow variable values below based on your own computing platform:\n",
    "* `NTH`: The number of cores to use for each job. Note the total used is further multiplied by the number of parallel jobs to run (see notebooks for network inference)\n",
    "* `DEVICE`: The device to use for pytorch. You need to have a compatible GPU and specify a proper CUDA version during Dictys installation to be able to use 'cuda:0', etc. **Note: using CPU may take days or over a week when you run [3-static-inference.ipynb](3-static-inference.ipynb) for this example.**"
   ]
  },
  {
   "cell_type": "code",
   "execution_count": 4,
   "metadata": {},
   "outputs": [],
   "source": [
    "!dictys_helper makefile_update.py ../makefiles/config.mk '{\"ENVMODE\": \"none\", \"NTH\": \"4\", \"DEVICE\": \"cuda:0\", \"GENOME_MACS2\": \"hs\", \"JOINT\": \"1\"}'\n"
   ]
  },
  {
   "cell_type": "markdown",
   "metadata": {},
   "source": [
    "Other variables:\n",
    "* `ENVMODE`: Mode to run Dictys. `none` means Dictys can be run directly without additional environment entrance steps.\n",
    "* `GENOME_MACS2`: Genome size used by macs2. Can be a number or shortcuts like hs.\n",
    "* `JOINT`: Whether the dataset is a joint quantification of transcriptome and chromatin accessibility. Affects multiple preprocessing steps like cell subsetting, cell removal, and quality checks."
   ]
  },
  {
   "cell_type": "markdown",
   "metadata": {},
   "source": [
    "See the configuration makefile"
   ]
  },
  {
   "cell_type": "code",
   "execution_count": 5,
   "metadata": {},
   "outputs": [
    {
     "name": "stdout",
     "output_type": "stream",
     "text": [
      "# Lingfei Wang, 2022. All rights reserved.\r\n",
      "#This file contains parameters for whole run and individual steps to be edited for your dataset\r\n",
      "#This file should be edited to configure the run\r\n",
      "#This file should NOT be directly used for any run with `makefile -f` \r\n",
      "\r\n",
      "############################################################\r\n",
      "# Run environment settings\r\n",
      "############################################################\r\n",
      "#Which environment to use, corresponding to env_$(ENVMODE).mk file\r\n",
      "ENVMODE=none\r\n",
      "#Maximum number of CPU threads for each job\r\n",
      "#This is only nominated and passed through to other softwares without any guarantee.\r\n",
      "NTH=4\r\n",
      "#Device name for pyro/pytorch\r\n",
      "#Note: cuda devices other than cuda:0 could be incompatible with singularity environment\r\n",
      "DEVICE=cuda:0\r\n",
      "\r\n",
      "############################################################\r\n",
      "# Dataset settings\r\n",
      "############################################################\r\n",
      "\r\n",
      "#Genome size for Macs2, accept shortcuts like mm & hs\r\n",
      "GENOME_MACS2=hs\r\n",
      "#Whether dataset is joint profiling of RNA & ATAC of same cell. Separate measurements of two modalities in different cells: 0. Joint measurements: 1.\r\n",
      "JOINT=1\r\n",
      "\r\n",
      "#######################################################################################\r\n",
      "# Parameters of individual steps shared by cell-type specific and dynamic GRN inference\r\n",
      "#######################################################################################\r\n",
      "\r\n",
      "PARAMS-PREPROC-QC_READS:=50 10 0 200 100 0\r\n",
      "PARAMS-CHROMATIN-MACS2:=$(GENOME_MACS2)\r\n",
      "PARAMS-CHROMATIN-BINLINKING:=20\r\n",
      "KPARAMS-PREPROC-SELECTSC_RNA:=\r\n",
      "KPARAMS-PREPROC-QC_READS:=\r\n",
      "KPARAMS-PREPROC-SELECTSC_ATAC:=\r\n",
      "KPARAMS-CHROMATIN-MACS2:=--nth $(NTH)\r\n",
      "KPARAMS-CHROMATIN-WELLINGTON:=--nth $(NTH)\r\n",
      "KPARAMS-CHROMATIN-HOMER:=--nth $(NTH)\r\n",
      "KPARAMS-CHROMATIN-BINDING:=\r\n",
      "KPARAMS-CHROMATIN-TSSDIST:=\r\n",
      "KPARAMS-CHROMATIN-LINKING:=\r\n",
      "KPARAMS-CHROMATIN-BINLINKING:=\r\n",
      "KPARAMS-NETWORK-RECONSTRUCT:=--device $(DEVICE) --nth $(NTH)\r\n",
      "KPARAMS-NETWORK-INDIRECT:=--nth $(NTH)\r\n",
      "KPARAMS-NETWORK-NORMALIZE:=--nth $(NTH)\r\n",
      "KPARAMS-NETWORK-TOFILE:=$(KPARAMS-NETWORK-TOFILE_EXTRA)\r\n",
      "\r\n",
      "#######################################################################################\r\n",
      "# Parameters of individual steps only in dynamic GRN inference\r\n",
      "#######################################################################################\r\n",
      "\r\n",
      "PARAMS-DYNAMIC-SUBSETS_RNA=1000 875 0.05\r\n",
      "PARAMS-DYNAMIC-SUBSETS_ATAC=$(firstword $(PARAMS-DYNAMIC-SUBSETS_RNA))\r\n"
     ]
    }
   ],
   "source": [
    "!cat ../makefiles/config.mk"
   ]
  },
  {
   "cell_type": "markdown",
   "metadata": {},
   "source": [
    "3. Checks of input data before context specific GRN inference run\n",
    "\n",
    "Checks are strongly recommended and can reduce inference pipeline reruns due to errors and therefore save you running time. If you find any error or unexpected output here, change the input files in `data` or `makefiles` folder by regenerating the relevant files in earlier steps, or by editing them by hand. After that, rerun the checks here to make sure everything is expected."
   ]
  },
  {
   "cell_type": "code",
   "execution_count": 6,
   "metadata": {},
   "outputs": [
    {
     "name": "stdout",
     "output_type": "stream",
     "text": [
      "Joint profile: True\n",
      "Found 11898 cells with RNA profile\n",
      "Found 24036 genes with RNA profile\n",
      "Found 11898 cells with ATAC profile\n",
      "Found 769 motifs\n",
      "Found 678 TFs\n",
      "Found 461 TFs in current dataset\n",
      "Missing 217 TFs in current dataset: ANDR,AP2A,AP2B,AP2C,AP2D,ARI3A,ARI5B,ATF6A,BARH1,BARH2,BC11A,BHA15,BHE22,BHE23,BHE40,BHE41,BMAL1,BRAC,BSH,COE1,COT1,COT2,CR3L1,CR3L2,ERR1,ERR2,ERR3,EVI1,GCR,HEN1,HMBX1,HME1,HME2,HNF6,HTF4,HXA1,HXA10,HXA11,HXA13,HXA2,HXA5,HXA7,HXA9,HXB1,HXB13,HXB2,HXB3,HXB4,HXB6,HXB7,HXB8,HXC10,HXC11,HXC12,HXC13,HXC6,HXC8,HXC9,HXD10,HXD11,HXD12,HXD13,HXD3,HXD4,HXD8,HXD9,ITF2,KAISO,MCR,MGAP,MLXPL,MYBA,MYBB,NDF1,NDF2,NF2L1,NF2L2,NFAC1,NFAC2,NFAC3,NFAC4,NGN2,NKX21,NKX22,NKX23,NKX25,NKX28,NKX31,NKX32,NKX61,NKX62,ONEC2,ONEC3,OZF,P53,P5F1B,P63,P73,PEBB,PHX2A,PHX2B,PIT1,PKNX1,PLAL1,PO2F1,PO2F2,PO2F3,PO3F1,PO3F2,PO3F3,PO3F4,PO4F1,PO4F2,PO4F3,PO5F1,PO6F1,PO6F2,PRD14,PRGR,RHXF1,RORG,RX,SMCA1,SMCA5,SRBP1,SRBP2,STA5A,STA5B,STF1,SUH,TF2LX,TF65,TF7L1,TF7L2,TFE2,THA,THA11,THB,TWST1,TYY1,TYY2,UBIP1,UNC4,Z324A,Z354A,ZBT14,ZBT17,ZBT18,ZBT48,ZBT49,ZBT7A,ZBT7B,ZEP1,ZEP2,ZF64A,ZKSC1,ZKSC3,ZN121,ZN134,ZN136,ZN140,ZN143,ZN148,ZN214,ZN219,ZN232,ZN250,ZN257,ZN260,ZN263,ZN264,ZN274,ZN281,ZN282,ZN317,ZN320,ZN322,ZN329,ZN331,ZN333,ZN335,ZN341,ZN350,ZN382,ZN384,ZN394,ZN410,ZN418,ZN423,ZN436,ZN449,ZN467,ZN490,ZN502,ZN524,ZN528,ZN547,ZN549,ZN554,ZN563,ZN582,ZN586,ZN589,ZN652,ZN667,ZN680,ZN708,ZN713,ZN740,ZN768,ZN770,ZN784,ZN816,ZSC16,ZSC22,ZSC31,ZSCA4\n",
      "Found 23533 genes with TSS information\n",
      "WARNING:root:Chromosomes not found in reference genome: chrGL000194.1,chrMT\n",
      "WARNING:root:Cannot find dynamic.mk or traj_node.h5. Skipping dynamic network inference checks.\n"
     ]
    }
   ],
   "source": [
    "!cd .. && dictys_helper makefile_check.py"
   ]
  },
  {
   "cell_type": "code",
   "execution_count": null,
   "metadata": {},
   "outputs": [],
   "source": []
  },
  {
   "cell_type": "code",
   "execution_count": null,
   "metadata": {},
   "outputs": [],
   "source": []
  }
 ],
 "metadata": {
  "kernelspec": {
   "display_name": "Python 3 (ipykernel)",
   "language": "python",
   "name": "python3"
  },
  "language_info": {
   "codemirror_mode": {
    "name": "ipython",
    "version": 3
   },
   "file_extension": ".py",
   "mimetype": "text/x-python",
   "name": "python",
   "nbconvert_exporter": "python",
   "pygments_lexer": "ipython3",
   "version": "3.9.13"
  }
 },
 "nbformat": 4,
 "nbformat_minor": 2
}
