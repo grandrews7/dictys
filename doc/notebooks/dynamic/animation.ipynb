{
 "cells": [
  {
   "cell_type": "markdown",
   "metadata": {},
   "source": [
    "# Animation visualization of dynamic networks\n",
    "## Animation layout\n",
    "\n",
    "Here we use the following animation panel layout. Each row for c,d,e,f has their own set of select TFs. The layout is arbitrary and you can design your own custom layout with `matplotlib`.\n",
    "\n",
    "```\n",
    "+---+       +---+\n",
    "| a |       | b |\n",
    "+---+---+---+---+\n",
    "| c | d | e | f |\n",
    "+---+---+---+---+\n",
    "| c | d | e | f |\n",
    "+---+---+---+---+\n",
    "```\n",
    "\n",
    "* a: Dynamic tracking of cells used for GRN inference\n",
    "* b: Dynamic scatter plot for differential regulation v.s. differential expression logFC\n",
    "* c: Dynamic plot for expression level (log CPM) of select TFs as a function of pseudo-time\n",
    "* d: Dynamic plot for regulatory activity (log target count) of select TFs as a function of pseudo-time\n",
    "* e: Dynamic heatmap for regulation strength from select TFs to select target genes\n",
    "* f: Dynamic subnetwork graph from select TF to its targets\n",
    "\n",
    "## Configuring matplotlib to enable large animation"
   ]
  },
  {
   "cell_type": "code",
   "execution_count": 1,
   "metadata": {},
   "outputs": [],
   "source": [
    "%config IPCompleter.use_jedi=False\n",
    "import matplotlib\n",
    "matplotlib.rcParams['animation.embed_limit'] = 2**128\n",
    "import matplotlib.pyplot as plt\n"
   ]
  },
  {
   "cell_type": "markdown",
   "metadata": {},
   "source": [
    "## Load data"
   ]
  },
  {
   "cell_type": "code",
   "execution_count": 2,
   "metadata": {},
   "outputs": [],
   "source": [
    "import itertools\n",
    "from functools import partial\n",
    "import dictys\n",
    "from dictys.net import dynamic_network\n",
    "from dictys.net.layout import _fruchterman_reingold\n",
    "from dictys.net import stat\n",
    "from dictys.plot import panel\n",
    "\n",
    "d0=dynamic_network.from_file('../../data/dynamic.h5')\n"
   ]
  },
  {
   "cell_type": "markdown",
   "metadata": {},
   "source": [
    "## Choosing branch to draw and genes to annotate"
   ]
  },
  {
   "cell_type": "code",
   "execution_count": 3,
   "metadata": {},
   "outputs": [],
   "source": [
    "#Determine branch with (starting node, ending node) from trajectory inference\n",
    "#See example trajectory-blood\n",
    "#Monocyte branch\n",
    "# branch=(0,1)\n",
    "#Erythroid branch\n",
    "branch=(0,2)\n",
    "#B cell branch\n",
    "# branch=(0,3)\n",
    "#Select TFs for each row's dynamic subnetwork graph\n",
    "tfs_subnet=[\n",
    "\t['HLF'],\n",
    "\t['GATA1'],\n",
    "]\n",
    "#Select TFs for each row's other plots\n",
    "tfs_ann=[\n",
    "\t['MYCN', 'HLF'],\n",
    "\t['GATA1', 'KLF1', 'HLTF', 'TAL1'],\n",
    "]\n",
    "#Select genes to annotate as targets in all rows\n",
    "target_ann=['CD34', 'GYPC', 'PRIM1', 'TRIM58', 'XPO7', 'YOD1', 'BTRC','FBXO9', 'PRPS1', 'MTMR3', 'MTMR12','MAZ','SLC2A1','PPOX','ADD2','ALAD','CDC20','NUSAP1','E2F2']\n",
    "\n",
    "n=len(tfs_ann)\n",
    "assert len(tfs_subnet)==n\n"
   ]
  },
  {
   "cell_type": "markdown",
   "metadata": {},
   "source": [
    "## Branch independent parameters"
   ]
  },
  {
   "cell_type": "code",
   "execution_count": 4,
   "metadata": {},
   "outputs": [],
   "source": [
    "#Kernel smoothing distance\n",
    "dist=1.5\n",
    "#Number of frames (interpolated time points), use 100 or higher for finer visualization\n",
    "nframe=20\n",
    "#Animation FPS for saving. Determines speed of play\n",
    "fps=0.10*nframe\n",
    "#Size of each panel\n",
    "panelsize=(6,4)\n",
    "#DPI for animation\n",
    "dpi=200\n",
    "#Bit rate for each panel, each FPS, and each dot per square inch. Increase for higher vidoe quality. Decrease for smaller file size.\n",
    "bitrate=1/400\n",
    "#bitrate*len(axes)*fps*dpi**2)\n",
    "#Number of panels per row/column\n",
    "panelcount=(4,1+n)\n"
   ]
  },
  {
   "cell_type": "markdown",
   "metadata": {},
   "source": [
    "## Kernel smoothed network properties\n"
   ]
  },
  {
   "cell_type": "code",
   "execution_count": 5,
   "metadata": {},
   "outputs": [],
   "source": [
    "pts,fsmooth=d0.linspace(branch[0],branch[1],nframe,dist)\n",
    "# Expression: logCPM\n",
    "stat1_lcpm=fsmooth(stat.lcpm(d0,cut=0))\n",
    "# Kernel smoothed network\n",
    "stat1_net=fsmooth(stat.net(d0))\n",
    "# Binarized network\n",
    "stat1_netbin=stat.fbinarize(stat1_net)\n",
    "# You can change network sparsity with: stat1_netbin=stat.fbinarize(stat1_net,sparsity=0.001)\n",
    "# Regulatory activity: log target count\n",
    "stat1_lntarget=stat.flnneighbor(stat1_netbin)\n",
    "# Pseudo time\n",
    "stat1_pseudotime=stat.pseudotime(d0,pts)\n"
   ]
  },
  {
   "cell_type": "markdown",
   "metadata": {},
   "source": [
    "## Kernel smoothed network properties for each row or panel"
   ]
  },
  {
   "cell_type": "code",
   "execution_count": 6,
   "metadata": {},
   "outputs": [],
   "source": [
    "tf_ann=list(set(itertools.chain.from_iterable(tfs_ann)))\n",
    "#Selecting TF's outgoing edges as subnetwork\n",
    "stat1_subnets=[stat1_net[x] for x in tfs_subnet]\n",
    "stat1_subnetbins=[stat1_netbin[x] for x in tfs_subnet]\n",
    "stat1_subnet_truncs=[stat.function(lambda *y:y[0]*y[1],x,names=x[0].names) for x in zip(stat1_subnets,stat1_subnetbins)]\n",
    "#Performing layout with linear smoothing of node locations\n",
    "weightfunc_linear=['linear',[],dict()]\n",
    "stat1_layouts=[stat.fsmooth(stat.flayout_base(x,partial(_fruchterman_reingold,stop=20,iterations=50),pts=pts),pts,weightfunc_linear) for x in stat1_subnet_truncs]\n"
   ]
  },
  {
   "cell_type": "markdown",
   "metadata": {},
   "source": [
    "## Draw animation"
   ]
  },
  {
   "cell_type": "code",
   "execution_count": null,
   "metadata": {},
   "outputs": [],
   "source": [
    "#Animation formating\n",
    "fig=plt.figure(figsize=(panelsize[0]*panelcount[0],panelsize[1]*panelcount[1]),dpi=dpi)\n",
    "axes=[fig.add_subplot(*panelcount[::-1],x+1) for x in range(panelcount[0]*panelcount[1])]\n",
    "[[y.set_visible(False) for y in x.spines.values()] for x in axes[:3]]\n",
    "for ax in axes[3:15]:\n",
    "\tax.spines['top'].set_visible(False)\n",
    "\tax.spines['right'].set_visible(False)\n",
    "plt.subplots_adjust(wspace=0.35,hspace=0.2)\n",
    "\n",
    "#Drawing each panel with iterator\n",
    "panels=[]\n",
    "axes_iter=iter(axes)\n",
    "\n",
    "#Panel a\n",
    "panels.append(panel.cellscatter(next(axes_iter),d0,pts,fsmooth))\n",
    "#Create two empty panels to skip\n",
    "next(axes_iter)\n",
    "next(axes_iter)\n",
    "#Panel b\n",
    "panels.append(panel.statscatter(next(axes_iter),pts,stat.fdiff(stat1_lcpm,stat.finitial(stat1_lcpm,pts),label='Diff express (LogFC in CPM)'),stat.fdiff(stat1_lntarget,stat.finitial(stat1_lntarget,pts),label='Diff regul (LogFC in target count)'),annotate=tf_ann,aspect=1,lim={'sym','min','max'}))\n",
    "#Each row\n",
    "for xi in range(n):\n",
    "\t#Panel c\n",
    "\tpanels.append(panel.statplot(next(axes_iter),pts,stat1_pseudotime,stat1_lcpm,names=tfs_ann[xi]))\n",
    "\t#Panel d\n",
    "\tpanels.append(panel.statplot(next(axes_iter),pts,stat1_pseudotime,stat1_lntarget,names=tfs_ann[xi]))\n",
    "\t#Panel e\n",
    "\tpanels.append(panel.statheatmap(next(axes_iter),pts,stat1_net,names=[tfs_ann[xi],target_ann],lim=[-0.3,0.3],cmap='coolwarm',aspect='auto'))\n",
    "\t#Panel f\n",
    "\tpanels.append(panel.network(next(axes_iter),pts,stat1_layouts[xi],stat1_subnet_truncs[xi],nodeka={'annotate':tfs_subnet[xi],'scatterka':{'s':5,'lw':0}},edgeka={'lw':0.05}))\n",
    "\n",
    "#Draw animation\n",
    "ca=panel.animate_generic(pts,fig,panels)\n",
    "anim=ca.animate()\n",
    "\n",
    "#Saving animation methods (choose one):\n",
    "#1. Visualize animation within jupyter. This will make the notebook large especially with many frames\n",
    "# from IPython.display import HTML\n",
    "# HTML(anim.to_jshtml())\n",
    "#2. Save animation to mp4 file\n",
    "w=matplotlib.animation.writers['ffmpeg_file'](fps=fps,bitrate=bitrate*len(axes)*fps*dpi**2)\n",
    "w.frame_format='jpeg'\n",
    "anim.save(f'../output/animation-branch{branch[1]}.mp4',writer=w,dpi='figure')\n"
   ]
  },
  {
   "cell_type": "code",
   "execution_count": null,
   "metadata": {},
   "outputs": [],
   "source": []
  }
 ],
 "metadata": {
  "kernelspec": {
   "display_name": "Python 3",
   "language": "python",
   "name": "python3"
  },
  "language_info": {
   "codemirror_mode": {
    "name": "ipython",
    "version": 3
   },
   "file_extension": ".py",
   "mimetype": "text/x-python",
   "name": "python",
   "nbconvert_exporter": "python",
   "pygments_lexer": "ipython3",
   "version": "3.9.5"
  }
 },
 "nbformat": 4,
 "nbformat_minor": 2
}
